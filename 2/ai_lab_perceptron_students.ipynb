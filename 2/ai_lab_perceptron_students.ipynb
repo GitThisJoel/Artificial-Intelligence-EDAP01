{
 "cells": [
  {
   "cell_type": "markdown",
   "id": "sacred-connecticut",
   "metadata": {},
   "source": [
    "# Classification with the perceptron and logistic regression\n",
    "\n",
    "__Individual assignment__\n",
    "\n",
    "Author of the assignment: Pierre Nugues\n",
    "\n",
    "__Student name__: Joel Bäcker, jo4383ba-s"
   ]
  },
  {
   "cell_type": "markdown",
   "id": "single-jackson",
   "metadata": {},
   "source": [
    "## Objectives\n",
    "\n",
    "The objectives of this second assignment are to:\n",
    "\n",
    "1.  Write a linear regression program using gradient descent;\n",
    "2.  Write linear classifiers using the perceptron algorithm and logistic regression;\n",
    "3.  Experiment variations of the algorithms;\n",
    "4.  Evaluate your classifiers;\n",
    "5.  Experiment with popular tools;\n",
    "6.  Read a scientific article on optimization techniques and comment it;\n",
    "7.  Present your code, results, and comments in a short dissertation."
   ]
  },
  {
   "cell_type": "markdown",
   "id": "photographic-coral",
   "metadata": {},
   "source": [
    "## Overview\n",
    "\n",
    "The gradient descent is a basic technique to estimate linear discriminant functions. You will first use the gradient descent method to implement linear regression. You will then program the perceptron algorithm. Finally, you will improve the threshold function with the logistic curve (logistic regression). You will try various configurations and study their influence on the learning speed and accuracy."
   ]
  },
  {
   "cell_type": "markdown",
   "id": "express-external",
   "metadata": {},
   "source": [
    "##  Programming language\n",
    "As programming language, you will use Python and write your code in this notebook.\n",
    "\n",
    "You need to have a comprehensive Python distribution such as Anaconda (https://www.anaconda.com/products/individual). This distribution is available on the student computers at the computer science department.\n",
    "Finally, you start a notebook by typing:\n",
    "\n",
    "`jupyter lab`\n",
    "\n",
    "in a terminal window and you select the notebook by clicking on it in the left pane.\n",
    "You run the pieces of code by typing shift+enter."
   ]
  },
  {
   "cell_type": "markdown",
   "id": "adjacent-crawford",
   "metadata": {},
   "source": [
    "## Imports\n",
    "Imports you may use"
   ]
  },
  {
   "cell_type": "code",
   "execution_count": 1,
   "id": "demanding-violence",
   "metadata": {},
   "outputs": [],
   "source": [
    "import numpy as np\n",
    "import math\n",
    "import matplotlib.pyplot as plt\n",
    "from matplotlib import cm\n",
    "from mpl_toolkits.mplot3d import Axes3D"
   ]
  },
  {
   "cell_type": "markdown",
   "id": "interior-genealogy",
   "metadata": {},
   "source": [
    "## Linear Regression\n",
    "\n",
    "You will implement the gradient descent method as explained in pages 719--720 in Russell-Norvig and in the slides to compute regression lines. You will implement the stochastic and batch versions of the algorithm.\n",
    "\n",
    "You must try to do it yourself first. If you encounter difficulties, you also have the solution to this exercise in the section _Solution to linear regression_ below."
   ]
  },
  {
   "cell_type": "markdown",
   "id": "entire-basic",
   "metadata": {},
   "source": [
    "### Your implementation of linear regression\n",
    "You will implement a regression program to predict the counts of _A_'s in a text from the total count of letters. You will apply it on two data sets corresponding to letter counts in the 15 chapters of the French and English versions of _Salammbô_, where the first column is the total count of characters and the second one, the count of A's. \n",
    "\n",
    "Start with either French or English and when your program ready, test it on the other language."
   ]
  },
  {
   "cell_type": "code",
   "execution_count": 2,
   "id": "forbidden-front",
   "metadata": {},
   "outputs": [],
   "source": [
    "stat_fr = np.array([[36961, 2503],\n",
    "                      [43621, 2992],\n",
    "                      [15694, 1042],\n",
    "                      [36231, 2487],\n",
    "                      [29945, 2014],\n",
    "                      [40588, 2805],\n",
    "                      [75255, 5062],\n",
    "                      [37709, 2643],\n",
    "                      [30899, 2126],\n",
    "                      [25486, 1784],\n",
    "                      [37497, 2641],\n",
    "                      [40398, 2766],\n",
    "                      [74105, 5047],\n",
    "                      [76725, 5312],\n",
    "                      [18317, 1215]])\n",
    "\n",
    "stat_en = np.array([[35680, 2217],\n",
    "                      [42514, 2761],\n",
    "                      [15162, 990],\n",
    "                      [35298, 2274],\n",
    "                      [29800, 1865],\n",
    "                      [40255, 2606],\n",
    "                      [74532, 4805],\n",
    "                      [37464, 2396],\n",
    "                      [31030, 1993],\n",
    "                      [24843, 1627],\n",
    "                      [36172, 2375],\n",
    "                      [39552, 2560],\n",
    "                      [72545, 4597],\n",
    "                      [75352, 4871],\n",
    "                      [18031, 1119]])"
   ]
  },
  {
   "cell_type": "markdown",
   "id": "adaptive-backing",
   "metadata": {},
   "source": [
    "From the datasets above, tell what is $\\mathbf{X}$ and $\\mathbf{y}$. Extract:\n",
    "1. The $\\mathbf{X}$ matrix, where you will have a column to model the intercept;\n",
    "2. The $\\mathbf{y}$ vector\n",
    "\n",
    "from these arrays."
   ]
  },
  {
   "cell_type": "code",
   "execution_count": 3,
   "id": "attached-aluminum",
   "metadata": {
    "scrolled": true
   },
   "outputs": [],
   "source": [
    "# Write your code here\n",
    "X_fr = np.ones((stat_fr.shape[0],2), dtype=float)\n",
    "X_fr[:, 1] = stat_fr[:,1]\n",
    "y_fr = stat_fr[:, 0]\n",
    "\n",
    "X_fr = np.array([[1, x] for x in stat_fr[:,0]])\n",
    "y_fr = np.array([stat_fr[:,1]]).T\n",
    "\n",
    "\n",
    "X_en = np.ones((stat_en.shape[0],2), dtype=float)\n",
    "X_en[:, 1] = stat_en[:,1]\n",
    "y_en = stat_en[:, 0]\n",
    "\n",
    "X_en = np.array([[1, x] for x in stat_en[:,0]])\n",
    "y_en = np.array([stat_en[:,1]]).T"
   ]
  },
  {
   "cell_type": "code",
   "execution_count": 4,
   "id": "7b3a6346",
   "metadata": {},
   "outputs": [],
   "source": [
    "def norm(M):\n",
    "    maxima = np.amax(M, axis=0)\n",
    "    D = np.diag(maxima)\n",
    "    D_inv = np.linalg.inv(D)\n",
    "    return M @ D_inv"
   ]
  },
  {
   "cell_type": "markdown",
   "id": "cross-neighborhood",
   "metadata": {},
   "source": [
    "\n",
    "\n",
    "Scale the arrays so that they fit in the range [0, 1] on the $x$ and $y$ axes. "
   ]
  },
  {
   "cell_type": "code",
   "execution_count": 5,
   "id": "103dcbf2",
   "metadata": {},
   "outputs": [],
   "source": [
    "x_fr = X_fr[:,1]\n",
    "X_fr_max = np.array([1, X_fr.max()])\n",
    "y_fr_max = y_fr.max()\n",
    "\n",
    "x_en = X_en[:,1]\n",
    "X_en_max = np.array([1, X_en.max()])\n",
    "y_en_max = y_en.max()"
   ]
  },
  {
   "cell_type": "code",
   "execution_count": 6,
   "id": "sudden-decision",
   "metadata": {},
   "outputs": [],
   "source": [
    "# Write your code here\n",
    "X_fr_norm = np.matrix(np.array([[1,x] for x in np.interp(x_fr, (x_fr.min(), x_fr.max()), (x_fr.min()/x_fr.max(), 1))]))\n",
    "y_fr_norm = np.interp(y_fr, (y_fr.min(), y_fr.max()), (y_fr.min()/y_fr.max(), 1))\n",
    "# print(X_n)\n",
    "# print(y_n)\n",
    "\n",
    "X_en_norm = np.matrix(np.array([[1,x] for x in np.interp(x_en, (x_en.min(), x_en.max()), (x_en.min()/x_en.max(), 1))]))\n",
    "y_en_norm = np.interp(y_en, (y_en.min(), y_en.max()), (y_en.min()/y_en.max(), 1))\n",
    "# print(X_n)\n",
    "# print(y_n)"
   ]
  },
  {
   "cell_type": "markdown",
   "id": "motivated-upset",
   "metadata": {},
   "source": [
    "#### Gradient descent"
   ]
  },
  {
   "cell_type": "markdown",
   "id": "careful-supplier",
   "metadata": {},
   "source": [
    "Implement the descent functions. You will pass `X`, `y`, the learning rate in the $\\alpha$ variable, the initial weight vector in `w`, the tolerance in the $\\epsilon$ variable, the maximal number of epochs in `epochs`. You will return `w`."
   ]
  },
  {
   "cell_type": "markdown",
   "id": "internal-luther",
   "metadata": {},
   "source": [
    "Batch descent"
   ]
  },
  {
   "cell_type": "code",
   "execution_count": 7,
   "id": "ce17bfa6",
   "metadata": {},
   "outputs": [],
   "source": [
    "def sse(X, y, w0, w1):\n",
    "    s = 0\n",
    "    for i in range(X.shape[0]):\n",
    "        s += y[i] - (w0[i] + w1[i]*X[i,1])\n",
    "    return s\n",
    "\n",
    "# sse(X, y, np.ones(X.shape[0]), np.ones(X.shape[0]))"
   ]
  },
  {
   "cell_type": "code",
   "execution_count": 8,
   "id": "8230cce1",
   "metadata": {},
   "outputs": [],
   "source": [
    "# Write your code here\n",
    "def fit_batch(X, y, alpha, w,\n",
    "                  epochs=500,\n",
    "                  epsilon=1.0e-5):\n",
    "    w_new = w\n",
    "    gradient = X.T@(y-(X@w))\n",
    "    while np.linalg.norm(gradient) > epsilon and epochs > 0:\n",
    "        gradient = X.T@(y-(X@w_new))\n",
    "        w_new = w_new + alpha/len(X)*gradient\n",
    "        epochs -= 1\n",
    "    return w_new"
   ]
  },
  {
   "cell_type": "markdown",
   "id": "french-sight",
   "metadata": {},
   "source": [
    "Stochastic descent"
   ]
  },
  {
   "cell_type": "code",
   "execution_count": 9,
   "id": "emerging-vegetation",
   "metadata": {},
   "outputs": [],
   "source": [
    "# Write your code here\n",
    "def fit_stoch(X, y, alpha, w,\n",
    "                  epochs=500,\n",
    "                  epsilon=1.0e-5):\n",
    "    for e in range(epochs):\n",
    "        for j in range(len(X)):\n",
    "            loss = y[j] - (X[j] @ w)[0]\n",
    "            gradient = loss * np.asarray([X[j]]).T\n",
    "            w = w + alpha * gradient\n",
    "        if np.linalg.norm(gradient) < epsilon:\n",
    "            break\n",
    "    print(f\"finished after {e+1} epochs\")\n",
    "    return w\n"
   ]
  },
  {
   "cell_type": "code",
   "execution_count": 10,
   "id": "b611b8cb",
   "metadata": {},
   "outputs": [],
   "source": [
    "# Write your code here\n",
    "def fit_stoch(X, y, alpha, w,\n",
    "                  epochs=500,\n",
    "                  epsilon=1.0e-5):\n",
    "    w_new = w\n",
    "    while epochs > 0:\n",
    "        for i in range(len(X)):\n",
    "            gradient = (y[i,0]-(X[i,:]*w_new)[0,0])*X[i,:].T\n",
    "            w_new = w_new + alpha*gradient\n",
    "        if(np.linalg.norm(gradient) < epsilon):\n",
    "            break\n",
    "        epochs -= 1\n",
    "    return w_new\n",
    "    "
   ]
  },
  {
   "cell_type": "markdown",
   "id": "junior-kazakhstan",
   "metadata": {},
   "source": [
    "#### Applying batch descent"
   ]
  },
  {
   "cell_type": "markdown",
   "id": "treated-assets",
   "metadata": {},
   "source": [
    "Apply the batch descent and print the final weight values "
   ]
  },
  {
   "cell_type": "code",
   "execution_count": 11,
   "id": "maritime-andorra",
   "metadata": {},
   "outputs": [
    {
     "data": {
      "text/plain": [
       "matrix([[8.76072256],\n",
       "        [0.06830077]])"
      ]
     },
     "metadata": {},
     "output_type": "display_data"
    }
   ],
   "source": [
    "# Write your code here\n",
    "lr = 1\n",
    "w_b_fr = fit_batch(X_fr_norm, y_fr_norm, lr, np.ones((2,1)))\n",
    "w_b_en = fit_batch(X_en_norm, y_en_norm, lr, np.ones((2,1)))\n",
    "\n",
    "for i in range(len(w_b_fr)):\n",
    "    w_b_fr[i] = w_b_fr[i] * y_fr_max / X_fr_max[i]\n",
    "\n",
    "display(w_b_fr)"
   ]
  },
  {
   "cell_type": "markdown",
   "id": "virgin-blast",
   "metadata": {},
   "source": [
    "Visualize the points of your dataset as well as the regression lines you obtain using matplotlib or another similar program."
   ]
  },
  {
   "cell_type": "code",
   "execution_count": 12,
   "id": "durable-stationery",
   "metadata": {},
   "outputs": [
    {
     "data": {
      "text/plain": [
       "[<matplotlib.lines.Line2D at 0x1c620abd810>]"
      ]
     },
     "execution_count": 12,
     "metadata": {},
     "output_type": "execute_result"
    },
    {
     "data": {
      "image/png": "[encoded data removed]",
      "text/plain": [
       "<Figure size 432x288 with 1 Axes>"
      ]
     },
     "metadata": {
      "needs_background": "light"
     },
     "output_type": "display_data"
    }
   ],
   "source": [
    "# Write your code here\n",
    "def f(x,w):\n",
    "    return w[1]*x+w[0]\n",
    "x = np.linspace(0, stat_fr[:,0].max(), 10)\n",
    "plt.plot(stat_fr[:,0], stat_fr[:,1], 'r^')\n",
    "plt.plot(x, f(x, w_b_fr).T)"
   ]
  },
  {
   "cell_type": "markdown",
   "id": "consistent-tampa",
   "metadata": {},
   "source": [
    "#### Stochastic descent"
   ]
  },
  {
   "cell_type": "code",
   "execution_count": 13,
   "id": "distinct-cruise",
   "metadata": {},
   "outputs": [
    {
     "data": {
      "text/plain": [
       "matrix([[-0.00913232],\n",
       "        [ 1.00067263]])"
      ]
     },
     "metadata": {},
     "output_type": "display_data"
    }
   ],
   "source": [
    "# Write your code here\n",
    "w_s_fr = fit_stoch(X_fr_norm, y_fr_norm, 0.9, np.ones((2,1)))\n",
    "w_s_en = fit_stoch(X_en_norm, y_en_norm, 0.6, np.ones((2,1)))\n",
    "\n",
    "for i in range(len(w_b_fr)):\n",
    "    w_b_fr[i] = w_b_fr[i] * y_fr_max / X_fr_max[i]\n",
    "    \n",
    "display(w_s_fr)"
   ]
  },
  {
   "cell_type": "markdown",
   "id": "fuzzy-circular",
   "metadata": {},
   "source": [
    "Visualize the points of your dataset as well as the regression lines you obtain using matplotlib or another similar program."
   ]
  },
  {
   "cell_type": "code",
   "execution_count": 14,
   "id": "illegal-steps",
   "metadata": {},
   "outputs": [
    {
     "data": {
      "text/plain": [
       "[<matplotlib.lines.Line2D at 0x1c622bb7760>]"
      ]
     },
     "execution_count": 14,
     "metadata": {},
     "output_type": "execute_result"
    },
    {
     "data": {
      "image/png": "[encoded data removed]",
      "text/plain": [
       "<Figure size 432x288 with 1 Axes>"
      ]
     },
     "metadata": {
      "needs_background": "light"
     },
     "output_type": "display_data"
    }
   ],
   "source": [
    "# Write your code here\n",
    "def f(x,w):\n",
    "    return w[1]*x+w[0]\n",
    "x = np.linspace(0, stat_fr[:,0].max(), 10)\n",
    "plt.plot(stat_fr[:,0], stat_fr[:,1], 'r^')\n",
    "plt.plot(x, f(x, w_b_fr).T)"
   ]
  },
  {
   "cell_type": "markdown",
   "id": "biological-assignment",
   "metadata": {},
   "source": [
    "### A solution to linear regression\n",
    "\n",
    "To help you start this assignment, your instructor wrote two Python notebooks that solve this exercise on linear regression. You can find them here: https://github.com/pnugues/ilppp/tree/master/programs/ch04/python\n",
    "The first notebook, `gradient_descent.ipynb`, only uses Python and vector operations such as the dot product that are in the `vector.py` file.\n",
    "The second notebook, `gradient_descent_numpy.ipynb`, uses Numpy. It is more compact, but you need to know a bit of numpy.\n",
    "\n",
    "To run these programs, download them on your computer as well as the other program in the import list: vector.py\n",
    "\n",
    "The programs are also available as Python programs from\n",
    "https://github.com/pnugues/ilppp/tree/master/programs/ch04/python"
   ]
  },
  {
   "cell_type": "markdown",
   "id": "suspended-province",
   "metadata": {},
   "source": [
    "## Classification\n",
    "You will use the same data set as for linear regression, but this time to classify a chapter as French or English. Given a pair of numbers corresponding the letter count and count of _A_, you will predict the language:\n",
    "1. $\\mathbf{x} = (35680, 2217)$ $\\to$ $y$ = English\n",
    "2. $\\mathbf{x} = (37497, 2641)$ $\\to$ $y$ = French"
   ]
  },
  {
   "cell_type": "markdown",
   "id": "joint-psychology",
   "metadata": {},
   "source": [
    "### The dataset\n",
    "You will use the arrays below:\n",
    "1. `X` contains the counts of letters and of _A_ s as well as a column of ones for the intercept;\n",
    "2. `y` contains the classes, where 0 is for English and 1 for French."
   ]
  },
  {
   "cell_type": "code",
   "execution_count": 15,
   "id": "sustainable-payment",
   "metadata": {},
   "outputs": [],
   "source": [
    "X = [[1.0, 35680.0, 2217.0],\n",
    "     [1.0, 42514.0, 2761.0],\n",
    "     [1.0, 15162.0, 990.0],\n",
    "     [1.0, 35298.0, 2274.0],\n",
    "     [1.0, 29800.0, 1865.0],\n",
    "     [1.0, 40255.0, 2606.0],\n",
    "     [1.0, 74532.0, 4805.0],\n",
    "     [1.0, 37464.0, 2396.0],\n",
    "     [1.0, 31030.0, 1993.0],\n",
    "     [1.0, 24843.0, 1627.0],\n",
    "     [1.0, 36172.0, 2375.0],\n",
    "     [1.0, 39552.0, 2560.0],\n",
    "     [1.0, 72545.0, 4597.0],\n",
    "     [1.0, 75352.0, 4871.0],\n",
    "     [1.0, 18031.0, 1119.0],\n",
    "     [1.0, 36961.0, 2503.0],\n",
    "     [1.0, 43621.0, 2992.0],\n",
    "     [1.0, 15694.0, 1042.0],\n",
    "     [1.0, 36231.0, 2487.0],\n",
    "     [1.0, 29945.0, 2014.0],\n",
    "     [1.0, 40588.0, 2805.0],\n",
    "     [1.0, 75255.0, 5062.0],\n",
    "     [1.0, 37709.0, 2643.0],\n",
    "     [1.0, 30899.0, 2126.0],\n",
    "     [1.0, 25486.0, 1784.0],\n",
    "     [1.0, 37497.0, 2641.0],\n",
    "     [1.0, 40398.0, 2766.0],\n",
    "     [1.0, 74105.0, 5047.0],\n",
    "     [1.0, 76725.0, 5312.0],\n",
    "     [1.0, 18317.0, 1215.0]]\n",
    "y = [0.0, 0.0, 0.0, 0.0, 0.0, 0.0, 0.0, 0.0, 0.0, 0.0, 0.0, 0.0, 0.0, 0.0, 0.0,\n",
    "     1.0, 1.0, 1.0, 1.0, 1.0, 1.0, 1.0, 1.0, 1.0, 1.0, 1.0, 1.0, 1.0, 1.0, 1.0]"
   ]
  },
  {
   "cell_type": "markdown",
   "id": "emerging-looking",
   "metadata": {},
   "source": [
    "We visualize it"
   ]
  },
  {
   "cell_type": "code",
   "execution_count": 16,
   "id": "verified-bridal",
   "metadata": {},
   "outputs": [],
   "source": [
    "x_fr = [x[1] for i, x in enumerate(X) if y[i] == 1]\n",
    "y_fr = [x[2] for i, x in enumerate(X) if y[i] == 1]\n",
    "x_en = [x[1] for i, x in enumerate(X) if y[i] == 0]\n",
    "y_en = [x[2] for i, x in enumerate(X) if y[i] == 0]"
   ]
  },
  {
   "cell_type": "code",
   "execution_count": 17,
   "id": "constitutional-carry",
   "metadata": {},
   "outputs": [
    {
     "data": {
      "text/plain": [
       "<matplotlib.collections.PathCollection at 0x1c622bebe80>"
      ]
     },
     "execution_count": 17,
     "metadata": {},
     "output_type": "execute_result"
    },
    {
     "data": {
      "image/png": "[encoded data removed]",
      "text/plain": [
       "<Figure size 432x288 with 1 Axes>"
      ]
     },
     "metadata": {
      "needs_background": "light"
     },
     "output_type": "display_data"
    }
   ],
   "source": [
    "plt.scatter(x_fr, y_fr, color='red')\n",
    "plt.scatter(x_en, y_en, color='blue')"
   ]
  },
  {
   "cell_type": "markdown",
   "id": "mineral-pointer",
   "metadata": {},
   "source": [
    "### Normalize the dataset"
   ]
  },
  {
   "cell_type": "markdown",
   "id": "imported-reporter",
   "metadata": {},
   "source": [
    "Gradient descent algorithms can be very sensitive to the range. Therefore, we normalize the dataset."
   ]
  },
  {
   "cell_type": "code",
   "execution_count": 18,
   "id": "adequate-words",
   "metadata": {},
   "outputs": [],
   "source": [
    "def normalize(observations):\n",
    "    maxima = [max([obs[i] for obs in observations]) for i in range(len(observations[0]))]\n",
    "    return ([[obs[i] / maxima[i]\n",
    "              for i in range(len(observations[0]))] for obs in observations],\n",
    "            maxima)"
   ]
  },
  {
   "cell_type": "code",
   "execution_count": 19,
   "id": "conservative-effectiveness",
   "metadata": {},
   "outputs": [
    {
     "data": {
      "text/plain": [
       "[[1.0, 0.4650374714890844, 0.4173569277108434],\n",
       " [1.0, 0.5541088302378625, 0.5197665662650602],\n",
       " [1.0, 0.19761485826001954, 0.18637048192771086],\n",
       " [1.0, 0.460058651026393, 0.42808734939759036],\n",
       " [1.0, 0.3884001303356142, 0.3510918674698795],\n",
       " [1.0, 0.5246660149885957, 0.49058734939759036],\n",
       " [1.0, 0.9714173998044966, 0.9045557228915663],\n",
       " [1.0, 0.4882893450635386, 0.4510542168674699],\n",
       " [1.0, 0.4044314108830238, 0.37518825301204817],\n",
       " [1.0, 0.32379276637341153, 0.30628765060240964],\n",
       " [1.0, 0.47144998370804825, 0.4471009036144578],\n",
       " [1.0, 0.5155034213098729, 0.4819277108433735],\n",
       " [1.0, 0.9455197132616487, 0.8653990963855421],\n",
       " [1.0, 0.9821049201694363, 0.916980421686747],\n",
       " [1.0, 0.2350081459758879, 0.21065512048192772],\n",
       " [1.0, 0.48173346366894754, 0.4711972891566265],\n",
       " [1.0, 0.5685369827305311, 0.5632530120481928],\n",
       " [1.0, 0.2045487129358097, 0.19615963855421686],\n",
       " [1.0, 0.47221896383186707, 0.46818524096385544],\n",
       " [1.0, 0.39028999674160963, 0.37914156626506024],\n",
       " [1.0, 0.5290061909416748, 0.5280496987951807],\n",
       " [1.0, 0.9808406647116324, 0.9529367469879518],\n",
       " [1.0, 0.49148256761159986, 0.4975527108433735],\n",
       " [1.0, 0.40272401433691757, 0.4002259036144578],\n",
       " [1.0, 0.3321733463668948, 0.3358433734939759],\n",
       " [1.0, 0.4887194525904203, 0.4971762048192771],\n",
       " [1.0, 0.5265298142717497, 0.5207078313253012],\n",
       " [1.0, 0.9658520690778756, 0.9501129518072289],\n",
       " [1.0, 1.0, 1.0],\n",
       " [1.0, 0.23873574454219615, 0.22872740963855423]]"
      ]
     },
     "execution_count": 19,
     "metadata": {},
     "output_type": "execute_result"
    }
   ],
   "source": [
    "X_norm, maxima = normalize(X)\n",
    "X_norm"
   ]
  },
  {
   "cell_type": "markdown",
   "id": "attached-reverse",
   "metadata": {},
   "source": [
    "## The Perceptron\n",
    "\n",
    "1. Write the perceptron program as explained in pages 723--725 in Russell-Norvig and in the slides and run it on your data set. As suggested program structure, use two functions: \n",
    " * `fit(X, y)` that will return `w` (the model). You can choose a stochastic or batch variant;\n",
    " * `predict(X, w)` that will return `y_hat`. You can encapsulate these functions in a class and, of course, add more parameters.\n",
    "2. As a stop criterion, you will use the number of misclassified examples.\n",
    "3. You will report the parameters you have used and the weight vector\n",
    "\n",
    "You can use numpy or not. The next cells are just suggested steps. You can implement it your way."
   ]
  },
  {
   "cell_type": "markdown",
   "id": "applicable-missouri",
   "metadata": {},
   "source": [
    "### The `predict(X, w)` function\n",
    "Write a `predict(X, w)` function that given a matrix of observations $\\mathbf{X}$ and a weight vector $\\mathbf{w}$ will return a $\\mathbf{\\hat{y}}$ vector classes (0 or 1)"
   ]
  },
  {
   "cell_type": "code",
   "execution_count": 20,
   "id": "demanding-stage",
   "metadata": {},
   "outputs": [],
   "source": [
    "# Write your code here\n",
    "def predict(X, w):\n",
    "    if vector.dot(X, w) >= 0:\n",
    "        return 1\n",
    "    else:\n",
    "        return 0"
   ]
  },
  {
   "cell_type": "markdown",
   "id": "choice-morgan",
   "metadata": {},
   "source": [
    "### The `fit(X, y)` function"
   ]
  },
  {
   "cell_type": "markdown",
   "id": "documented-cartridge",
   "metadata": {},
   "source": [
    "Write a `fit(X, y)` function that given a matrix of observations $\\mathbf{X}$ and a vector of responses $\\mathbf{y}$ will return a weight $\\mathbf{w}$ vector. You may use the other arguments of the function, notably the number of misclassified examples to define the stop condition."
   ]
  },
  {
   "cell_type": "code",
   "execution_count": 21,
   "id": "therapeutic-balloon",
   "metadata": {},
   "outputs": [],
   "source": [
    "# Write your code here\n",
    "\n",
    "# X ~ [1 #letters #A]\n",
    "import random\n",
    "import vector\n",
    "def fit_stoch(X, y,\n",
    "              epochs=30000,\n",
    "              max_misclassified=0,\n",
    "              verbose=True):\n",
    "    \n",
    "    w = [1] * len(X[0]) # init weight vector\n",
    "    inds = list(range(len(X)))\n",
    "\n",
    "    for epoch in range(epochs):\n",
    "        loss_sum = 0 # value of abs losses summed\n",
    "        \n",
    "        alpha = 1000/(1000 + epoch)\n",
    "        \n",
    "        random.shuffle(inds)\n",
    "        for j in inds:\n",
    "            pred = predict(X[j], w)\n",
    "            loss = y[j] - pred\n",
    "            loss_sum += abs(loss)\n",
    "            w = vector.add(w, vector.mul(alpha, vector.mul(loss, X[j])))\n",
    "            \n",
    "            if loss_sum <= max_misclassified:\n",
    "                break\n",
    "            \n",
    "    if verbose: \n",
    "        print(f\"epochs: {epoch+1}, weights: {w}\", end=\"\")\n",
    "        # print(f\"{loss_sum=}\")\n",
    "    return w"
   ]
  },
  {
   "cell_type": "markdown",
   "id": "accessory-graduate",
   "metadata": {},
   "source": [
    "### Fitting the dataset"
   ]
  },
  {
   "cell_type": "code",
   "execution_count": 22,
   "id": "reported-uniform",
   "metadata": {},
   "outputs": [
    {
     "name": "stdout",
     "output_type": "stream",
     "text": [
      "epochs: 30000, weights: [-0.02387511926851882, -11.713590487936663, 12.344205290014715]"
     ]
    },
    {
     "data": {
      "text/plain": [
       "[-0.02387511926851882, -11.713590487936663, 12.344205290014715]"
      ]
     },
     "execution_count": 22,
     "metadata": {},
     "output_type": "execute_result"
    }
   ],
   "source": [
    "w = fit_stoch(X_norm, y )\n",
    "w"
   ]
  },
  {
   "cell_type": "code",
   "execution_count": 23,
   "id": "formal-bahamas",
   "metadata": {},
   "outputs": [
    {
     "name": "stdout",
     "output_type": "stream",
     "text": [
      "Restored weights [-126.82463355437196, -0.8109819833420601, 12.344205290014715]\n",
      "Weights with y set to 1 [-10.274021743381162, -0.06569738304644586, 1.0]\n"
     ]
    }
   ],
   "source": [
    "w = [w[i] * maxima[-1] / maxima[i] for i in range(len(w))]\n",
    "print(\"Restored weights\", w)\n",
    "w = [w[j] / w[-1] for j in range(len(w))]\n",
    "print(\"Weights with y set to 1\", w)"
   ]
  },
  {
   "cell_type": "markdown",
   "id": "demographic-control",
   "metadata": {},
   "source": [
    "### Visualizing the results"
   ]
  },
  {
   "cell_type": "code",
   "execution_count": 24,
   "id": "forward-enclosure",
   "metadata": {},
   "outputs": [
    {
     "data": {
      "text/plain": [
       "[<matplotlib.lines.Line2D at 0x1c6230cd0c0>]"
      ]
     },
     "execution_count": 24,
     "metadata": {},
     "output_type": "execute_result"
    },
    {
     "data": {
      "image/png": "[encoded data removed]",
      "text/plain": [
       "<Figure size 432x288 with 1 Axes>"
      ]
     },
     "metadata": {
      "needs_background": "light"
     },
     "output_type": "display_data"
    }
   ],
   "source": [
    "plt.scatter(x_fr, y_fr, color='red')\n",
    "plt.scatter(x_en, y_en, color='blue')\n",
    "plt.plot([min(x_fr + x_en), max(x_fr + x_en)],\n",
    "             [-w[1] * min(x_fr + x_en) - w[0], -w[1] * max(x_fr + x_en) - w[0]])"
   ]
  },
  {
   "cell_type": "markdown",
   "id": "eleven-honolulu",
   "metadata": {},
   "source": [
    "### Evaluation\n",
    "Evaluate your perceptron using the leave-one-out cross validation method. You will have to train and run 30 models. In each train/run session, you will train on 29 samples and evaluate on the remaining sample. You have then either a correct or a wrong classification. You will sum these classifications, i.e. the number of correct classifications, to get your final evaluation, for instance 29/30."
   ]
  },
  {
   "cell_type": "code",
   "execution_count": 25,
   "id": "patent-leeds",
   "metadata": {},
   "outputs": [
    {
     "name": "stdout",
     "output_type": "stream",
     "text": [
      "Fold 1 of 30: epochs: 30000, weights: [0.08701366589834827, -14.939576428389387, 15.373876735759902]: Correct\n",
      "Fold 2 of 30: epochs: 30000, weights: [0.10022585572460874, -17.625585316089836, 18.1037506551338]: Correct\n",
      "Fold 3 of 30: epochs: 30000, weights: [0.07643365783137127, -16.141464437572427, 16.58682197497549]: Correct\n",
      "Fold 4 of 30: epochs: 30000, weights: [0.06402960431276164, -16.634967996116835, 17.097998921520364]: Correct\n",
      "Fold 5 of 30: epochs: 30000, weights: [0.08308130819413365, -14.435552669925944, 14.836575610437912]: Correct\n",
      "Fold 6 of 30: epochs: 30000, weights: [0.07326837175464232, -18.552118876587883, 19.042861622415572]: Correct\n",
      "Fold 7 of 30: epochs: 30000, weights: [0.10149560441711478, -17.737476963546676, 18.222416794619008]: Correct\n",
      "Fold 8 of 30: epochs: 30000, weights: [0.08714688152932382, -14.895665553397993, 15.27663483089829]: Correct\n",
      "Fold 9 of 30: epochs: 30000, weights: [0.09349152746647432, -16.28873367896592, 16.671557626758496]: Correct\n",
      "Fold 10 of 30: epochs: 30000, weights: [0.08702196494741238, -14.732673542841093, 15.125215111413846]: Correct\n",
      "Fold 11 of 30: epochs: 30000, weights: [0.08797450633957, -15.120994414397936, 15.544087144616638]: Correct\n",
      "Fold 12 of 30: epochs: 30000, weights: [0.09274866517509345, -16.121021305297393, 16.563613625829298]: Correct\n",
      "Fold 13 of 30: epochs: 30000, weights: [0.10021176138731855, -17.781934657004143, 18.264044456653703]: Correct\n",
      "Fold 14 of 30: epochs: 30000, weights: [0.10304815239579779, -18.01654443580606, 18.47701531899915]: Correct\n",
      "Fold 15 of 30: epochs: 30000, weights: [0.09985719468407939, -17.414911688520164, 17.875209989960076]: Correct\n",
      "Fold 16 of 30: epochs: 30000, weights: [-0.040622909530259044, -13.035884176676436, 13.812202635391369]: Correct\n",
      "Fold 17 of 30: epochs: 30000, weights: [-0.00898522246011968, -4.932046682077891, 5.1980335178426085]: Correct\n",
      "Fold 18 of 30: epochs: 30000, weights: [-0.029507188432412512, -6.761723859476695, 7.190446228745401]: Wrong\n",
      "Fold 19 of 30: epochs: 30000, weights: [-0.05452597439029089, -15.163836105431413, 16.10298776692717]: Correct\n",
      "Fold 20 of 30: epochs: 30000, weights: [0.03223016737319248, -15.703243488687232, 16.253169779078092]: Correct\n",
      "Fold 21 of 30: epochs: 30000, weights: [-0.000673308356892055, -3.262305511379711, 3.420665879240779]: Correct\n",
      "Fold 22 of 30: epochs: 30000, weights: [0.013155601325053001, -6.55181522433192, 6.784811282540946]: Correct\n",
      "Fold 23 of 30: epochs: 30000, weights: [-0.03316201886063508, -11.57719291682921, 12.273461174432121]: Correct\n",
      "Fold 24 of 30: epochs: 30000, weights: [0.002965910682393824, -3.4083435938854123, 3.5604159249343446]: Correct\n",
      "Fold 25 of 30: epochs: 30000, weights: [-0.010531174973937296, -3.819302126395105, 4.043335035996206]: Correct\n",
      "Fold 26 of 30: epochs: 30000, weights: [-0.05501032482030255, -14.339625752381908, 15.235448512170384]: Correct\n",
      "Fold 27 of 30: epochs: 30000, weights: [-0.014220740194911263, -4.463603402989434, 4.729344438022208]: Correct\n",
      "Fold 28 of 30: epochs: 30000, weights: [-0.007015268277115516, -5.9598493891652, 6.251640611582716]: Correct\n",
      "Fold 29 of 30: epochs: 30000, weights: [-0.001065872572818094, -1.0775708620555071, 1.138080184390536]: Correct\n",
      "Fold 30 of 30: epochs: 30000, weights: [0.028785723781287326, -12.168864443720212, 12.732082875844164]: Correct\n",
      "Cross-validation accuracy (stochastic): 0.9666666666666667\n"
     ]
    }
   ],
   "source": [
    "# Write your code here\n",
    "def leave_one_out_cross_val(X, y, fitting_function):\n",
    "    correct = 0\n",
    "    for i in range(len(y)):\n",
    "        sample = X[i]\n",
    "        fold = X[:i] + X[i+1:]\n",
    "        \n",
    "        print(f\"Fold {i+1} of {len(X)}: \", end=\"\")\n",
    "        w = fitting_function(fold, y)\n",
    "        if predict(sample, w) == y[i]:\n",
    "            print(\": Correct\")\n",
    "            correct += 1\n",
    "        else:\n",
    "            print(\": Wrong\")\n",
    "    return correct/len(y)\n",
    "            \n",
    "        \n",
    "stoch_accuracy = leave_one_out_cross_val(X_norm, y, fit_stoch)\n",
    "print('Cross-validation accuracy (stochastic):', stoch_accuracy)"
   ]
  },
  {
   "cell_type": "markdown",
   "id": "toxic-score",
   "metadata": {},
   "source": [
    "## Logistic Regression\n",
    "From your perceptron program, implement logistic regression. You can either follow the description from the textbook, S. Russell and R. Norvig, _Artificial Intelligence_, 2010, pages 725--727, or the slides. You can either implement the stochastic or the batch version of the algorithm, or both versions. As stop criterion, you will use either the norm of the gradient or the norm of the difference between two consecutive weight vectors. You will also set a maximal number of epochs. Run the resulting program on your data set."
   ]
  },
  {
   "cell_type": "markdown",
   "id": "variable-albania",
   "metadata": {},
   "source": [
    "Write the logistic function, where the $x$ input is a real number."
   ]
  },
  {
   "cell_type": "code",
   "execution_count": 26,
   "id": "secret-orbit",
   "metadata": {},
   "outputs": [],
   "source": [
    "# Write your code here\n",
    "def logistic(x, L=1, k=1, x0=0):\n",
    "    return L / (1 + np.exp(-k*(x-x0)))"
   ]
  },
  {
   "cell_type": "markdown",
   "id": "atmospheric-payroll",
   "metadata": {},
   "source": [
    "### The `predict(X, w)` function"
   ]
  },
  {
   "cell_type": "markdown",
   "id": "motivated-mustang",
   "metadata": {},
   "source": [
    "Write a `predict_proba()` function that given a matrix of observations $\\mathbf{X}$ and a weight vector $\\mathbf{w}$ will return a vector of probabilities to belong to class 1: The vector will consist of $P(1|\\mathbf{x}_i)$ for all the $i$ rows of $\\mathbf{X}$."
   ]
  },
  {
   "cell_type": "code",
   "execution_count": 27,
   "id": "genuine-sharing",
   "metadata": {},
   "outputs": [],
   "source": [
    "# Write your code here\n",
    "def predict_proba(X, w):\n",
    "    return [logistic(vector.dot(x, w)) for x in X]"
   ]
  },
  {
   "cell_type": "markdown",
   "id": "front-salad",
   "metadata": {},
   "source": [
    "Write a `predict(X, w)` function that given a matrix of observations $\\mathbf{X}$ and a weight vector $\\mathbf{w}$ will return the class. You will use `predict_proba()` and set the threshold to belong to class 1 to 0.5."
   ]
  },
  {
   "cell_type": "code",
   "execution_count": 28,
   "id": "historic-intention",
   "metadata": {},
   "outputs": [],
   "source": [
    "# Write your code here\n",
    "def predict(X, w):\n",
    "    return [1 if p > 0.5 else 0 for p in predict_proba(X, w)]"
   ]
  },
  {
   "cell_type": "markdown",
   "id": "assisted-variation",
   "metadata": {},
   "source": [
    "### The `fit(X, y)` function"
   ]
  },
  {
   "cell_type": "markdown",
   "id": "blind-relation",
   "metadata": {},
   "source": [
    "You will now write the `fit(X, y)` function as with the perceptron. You may call it `fit_stoch(X, y)` or `fit_batch(X, y)`. Use the parameters given in the cell below."
   ]
  },
  {
   "cell_type": "code",
   "execution_count": 29,
   "id": "parallel-reynolds",
   "metadata": {},
   "outputs": [
    {
     "name": "stdout",
     "output_type": "stream",
     "text": [
      "epochs: 1000, weights: [0.21301588722362183, -58.58171242368695, 62.004933060349856]\n"
     ]
    }
   ],
   "source": [
    "# Write your code here\n",
    "import random\n",
    "def fit_stoch(X, y, alpha=100,\n",
    "              epochs=1000,\n",
    "              epsilon=1.0e-4,\n",
    "              verbose=False):\n",
    "    \n",
    "    w = [0] * len(X[0]) # init weight vector\n",
    "    inds = list(range(len(X)))\n",
    "\n",
    "    for epoch in range(epochs):\n",
    "        loss_sum = 0 # value of abs losses summed\n",
    "        \n",
    "        alpha = 1000/(1000 + epoch)\n",
    "        \n",
    "        gradient_tot = [0] * len(X[0])\n",
    "        random.shuffle(inds)\n",
    "        for j in inds:\n",
    "            pred = predict_proba([X[j]], w)[0]\n",
    "            loss = y[j] - pred\n",
    "            \n",
    "            gradient = vector.mul(loss, X[j])\n",
    "            gradient_tot = vector.add(gradient_tot, gradient)            \n",
    "            w = vector.add(w, vector.mul(alpha, gradient))\n",
    "            \n",
    "        if vector.norm(gradient_tot) < epsilon:\n",
    "            break\n",
    "            \n",
    "    if verbose: \n",
    "        print(f\"epochs: {epoch + 1}, weights: {w}\")\n",
    "    return w\n",
    "\n",
    "w = fit_stoch(X_norm, y, verbose=True)"
   ]
  },
  {
   "cell_type": "code",
   "execution_count": 30,
   "id": "naughty-sphere",
   "metadata": {},
   "outputs": [
    {
     "name": "stdout",
     "output_type": "stream",
     "text": [
      "epochs: 1000, weights: [-0.3488261020683301, -58.911280057698626, 61.61655544105816]\n"
     ]
    },
    {
     "data": {
      "text/plain": [
       "[-0.3488261020683301, -58.911280057698626, 61.61655544105816]"
      ]
     },
     "execution_count": 30,
     "metadata": {},
     "output_type": "execute_result"
    }
   ],
   "source": [
    "w = fit_stoch(X_norm, y, verbose=True)\n",
    "w"
   ]
  },
  {
   "cell_type": "code",
   "execution_count": 31,
   "id": "experienced-manor",
   "metadata": {
    "scrolled": true
   },
   "outputs": [
    {
     "name": "stdout",
     "output_type": "stream",
     "text": [
      "Restored weights [-0.3488261020683301, -0.0007678237870016113, 0.011599502153813659]\n",
      "Weights with y set to 1 [-30.072506340597023, -0.06619454669864153, 1.0]\n"
     ]
    }
   ],
   "source": [
    "w = [w[i] / maxima[i] for i in range(len(w))]\n",
    "print(\"Restored weights\", w)\n",
    "w = [w[j] / w[-1] for j in range(len(w))]\n",
    "print(\"Weights with y set to 1\", w)"
   ]
  },
  {
   "cell_type": "markdown",
   "id": "coastal-motion",
   "metadata": {},
   "source": [
    "### Visualizing the results"
   ]
  },
  {
   "cell_type": "code",
   "execution_count": 32,
   "id": "illegal-evans",
   "metadata": {},
   "outputs": [
    {
     "data": {
      "image/png": "[encoded data removed]",
      "text/plain": [
       "<Figure size 432x288 with 1 Axes>"
      ]
     },
     "metadata": {
      "needs_background": "light"
     },
     "output_type": "display_data"
    }
   ],
   "source": [
    "plt.scatter(x_fr, y_fr, color='red')\n",
    "plt.scatter(x_en, y_en, color='blue')\n",
    "plt.plot([min(x_fr + x_en), max(x_fr + x_en)],\n",
    "         [-w[1] * min(x_fr + x_en) - w[0], -w[1] * max(x_fr + x_en) - w[0]])\n",
    "plt.show()"
   ]
  },
  {
   "cell_type": "markdown",
   "id": "wireless-value",
   "metadata": {},
   "source": [
    "### Evaluation\n",
    "Evaluate your logistic regression using the leave-one-out cross validation method as with the perceptron"
   ]
  },
  {
   "cell_type": "code",
   "execution_count": 33,
   "id": "offensive-trinity",
   "metadata": {},
   "outputs": [
    {
     "name": "stdout",
     "output_type": "stream",
     "text": [
      "Fold 1 of 31: epochs: 1000, weights: [-0.1714292943493141, -58.94976336336895, 61.818244669018924]\n",
      ": Correct\n",
      "Fold 2 of 31: epochs: 1000, weights: [-0.35492568827308846, -58.96810310326834, 61.73029721896015]\n",
      ": Correct\n",
      "Fold 3 of 31: epochs: 1000, weights: [-0.2881867260359299, -59.065848213399754, 61.72142188297591]\n",
      ": Correct\n",
      "Fold 4 of 31: epochs: 1000, weights: [-0.25982333658023654, -58.98397747734695, 61.73409165944762]\n",
      ": Correct\n",
      "Fold 5 of 31: epochs: 1000, weights: [0.04446625257557468, -58.69191491699736, 61.78784478732043]\n",
      ": Correct\n",
      "Fold 6 of 31: epochs: 1000, weights: [0.19307362514423698, -58.76257482833497, 62.06698992253687]\n",
      ": Correct\n",
      "Fold 7 of 31: epochs: 1000, weights: [-0.16992444385722366, -59.10593179282536, 62.023555488181884]\n",
      ": Correct\n",
      "Fold 8 of 31: epochs: 1000, weights: [0.055788948353025836, -58.74397472106611, 61.64434156924563]\n",
      ": Correct\n",
      "Fold 9 of 31: epochs: 1000, weights: [0.17504227657302854, -58.69161410813956, 62.11650139571914]\n",
      ": Correct\n",
      "Fold 10 of 31: epochs: 1000, weights: [-0.023407943520092872, -58.66626249602433, 61.894893490099754]\n",
      ": Correct\n",
      "Fold 11 of 31: epochs: 1000, weights: [0.40097551331006404, -58.37205757786846, 62.02813511393451]\n",
      ": Wrong\n",
      "Fold 12 of 31: epochs: 1000, weights: [-0.08487318048211154, -58.94713958703716, 62.13722683193204]\n",
      ": Correct\n",
      "Fold 13 of 31: epochs: 1000, weights: [0.10086852180430067, -58.78240361504316, 61.98755255819718]\n",
      ": Correct\n",
      "Fold 14 of 31: epochs: 1000, weights: [-0.3387913357473128, -59.047093168165425, 61.86267267528855]\n",
      ": Correct\n",
      "Fold 15 of 31: epochs: 1000, weights: [0.28655926540907023, -58.69885628580855, 62.10612089463848]\n",
      ": Correct\n",
      "Fold 16 of 31: epochs: 1000, weights: [-0.24237297641227729, -59.01931796679653, 61.83515485531403]\n",
      ": Correct\n",
      "Fold 17 of 31: epochs: 1000, weights: [-0.09403357797465438, -58.99472253999276, 61.907955064890864]\n",
      ": Correct\n",
      "Fold 18 of 31: epochs: 1000, weights: [-0.2781211813281206, -58.88103553077375, 61.737605016133365]\n",
      ": Wrong\n",
      "Fold 19 of 31: epochs: 1000, weights: [-0.41098117674411855, -59.021346164592806, 61.75904032439045]\n",
      ": Correct\n",
      "Fold 20 of 31: epochs: 1000, weights: [-0.04578785628394769, -58.772170153688954, 61.879619966120266]\n",
      ": Correct\n",
      "Fold 21 of 31: epochs: 1000, weights: [0.11045062480683795, -58.691969448158694, 61.84315843604725]\n",
      ": Correct\n",
      "Fold 22 of 31: epochs: 1000, weights: [-0.31944976573984213, -58.99091689357225, 61.847456637348195]\n",
      ": Correct\n",
      "Fold 23 of 31: epochs: 1000, weights: [-0.06602995982839366, -58.8929575439476, 61.75091850882809]\n",
      ": Correct\n",
      "Fold 24 of 31: epochs: 1000, weights: [0.06655470765161783, -58.75246331427106, 62.00658206735523]\n",
      ": Correct\n",
      "Fold 25 of 31: epochs: 1000, weights: [-0.04910767718888301, -58.87365422578218, 61.920752254164235]\n",
      ": Correct\n",
      "Fold 26 of 31: epochs: 1000, weights: [-0.15130663879047818, -58.9340581676584, 61.85952065523622]\n",
      ": Correct\n",
      "Fold 27 of 31: epochs: 1000, weights: [-0.06802581764911506, -58.67706874856481, 61.750744731627094]\n",
      ": Correct\n",
      "Fold 28 of 31: epochs: 1000, weights: [0.001189741813769185, -58.79314032447194, 61.753561159818766]\n",
      ": Correct\n",
      "Fold 29 of 31: epochs: 1000, weights: [-0.2829329622231742, -58.95733288065132, 61.743453793344294]\n",
      ": Correct\n",
      "Fold 30 of 31: epochs: 1000, weights: [-0.026913233427233188, -58.76279950708573, 61.71637724920276]\n",
      ": Correct\n",
      "Cross-validation accuracy (batch): 0.9333333333333333\n"
     ]
    }
   ],
   "source": [
    "# Write your code here\n",
    "def leave_one_out_cross_val(X, y, fitting_function):\n",
    "    correct = 0\n",
    "    X, maxima = normalize(X)\n",
    "    for i in range(len(y)):\n",
    "        print(f\"Fold {i+1} of {len(y)+1}: \", end=\"\")\n",
    "        sample = X[i]\n",
    "        fold = X[:i] + X[i+1:]\n",
    "        w = fitting_function(X, y, verbose=True)\n",
    "        \n",
    "        if predict([sample], w)[0] == y[i]:\n",
    "            print(\": Correct\")\n",
    "            correct += 1\n",
    "        else:\n",
    "            print(\": Wrong\")\n",
    "    return correct/len(y)\n",
    "\n",
    "stoch_accuracy = leave_one_out_cross_val(X, y, fit_stoch)\n",
    "print('Cross-validation accuracy (batch):', stoch_accuracy)"
   ]
  },
  {
   "cell_type": "markdown",
   "id": "global-difficulty",
   "metadata": {},
   "source": [
    "## Visualizing the logistic surface"
   ]
  },
  {
   "cell_type": "code",
   "execution_count": 34,
   "id": "sunrise-tractor",
   "metadata": {},
   "outputs": [],
   "source": [
    "def plot_logistic_surf(x_range, y_range, w_opt):\n",
    "    z_axis = np.array([[0.0] * len(y_range) for i in range(len(x_range))])\n",
    "    x_axis, y_axis = np.meshgrid(x_range, y_range)\n",
    "    z_axis = z_axis.reshape(x_axis.shape)\n",
    "\n",
    "    # We compute the probability surface as a function of x and y\n",
    "    for i in range(len(x_range)):\n",
    "        for j in range(len(y_range)):\n",
    "            z_axis[j, i] = logistic(np.dot([1, x_range[i], y_range[j]], w_opt))\n",
    "    return x_axis, y_axis, z_axis"
   ]
  },
  {
   "cell_type": "code",
   "execution_count": 35,
   "id": "confirmed-plastic",
   "metadata": {},
   "outputs": [
    {
     "name": "stderr",
     "output_type": "stream",
     "text": [
      "C:\\Users\\joelb\\AppData\\Local\\Temp\\ipykernel_2288\\3793500254.py:3: RuntimeWarning: overflow encountered in exp\n",
      "  return L / (1 + np.exp(-k*(x-x0)))\n",
      "C:\\Users\\joelb\\AppData\\Local\\Temp\\ipykernel_2288\\3513707031.py:8: MatplotlibDeprecationWarning: Axes3D(fig) adding itself to the figure is deprecated since 3.4. Pass the keyword argument auto_add_to_figure=False and use fig.add_axes(ax) to suppress this warning. The default value of auto_add_to_figure will change to False in mpl3.5 and True values will no longer work in 3.6.  This is consistent with other Axes classes.\n",
      "  ax = Axes3D(fig)\n"
     ]
    },
    {
     "data": {
      "image/png": "[encoded data removed]",
      "text/plain": [
       "<Figure size 432x288 with 2 Axes>"
      ]
     },
     "metadata": {
      "needs_background": "light"
     },
     "output_type": "display_data"
    }
   ],
   "source": [
    "x_range = np.linspace(0, 100000, 200)\n",
    "y_range = np.linspace(0, 10000, 200)\n",
    "#w = [2.073225839414742, -0.049125455233437906, 0.7440143556104162]\n",
    "\n",
    "x_axis, y_axis, z_axis = plot_logistic_surf(x_range, y_range, w)\n",
    "\n",
    "fig = plt.figure()\n",
    "ax = Axes3D(fig)\n",
    "# ax = fig.gca(projection='3d')\n",
    "\n",
    "surf = ax.plot_surface(y_axis, x_axis, z_axis, rstride=1, cstride=1, cmap=cm.coolwarm,\n",
    "                       linewidth=0, antialiased=False, alpha=0.2)\n",
    "fig.colorbar(surf, shrink=0.5, aspect=5)\n",
    "# We plot the observations\n",
    "for x, y_class in zip(X, y):\n",
    "    if y_class == 1:\n",
    "        ax.scatter(x[2], x[1], y_class, color='green', marker='x')\n",
    "    else:\n",
    "        ax.scatter(x[2], x[1], y_class, color='red', marker='x')\n",
    "\n",
    "ax.elev = 30 \n",
    "ax.azim = -150\n",
    "plt.show()"
   ]
  },
  {
   "cell_type": "markdown",
   "id": "acoustic-ideal",
   "metadata": {},
   "source": [
    "## Programming logistic regression with popular APIs\n",
    "Should you use logistic regression in a project, you will probably resort to existing libraries. In the next cells, you will apply the logistic regression classification with two popular APIs:\n",
    "1. sklearn\n",
    "2. Keras\n",
    "\n",
    "`sklearn` is included in anaconda.\n",
    "You will install the rest with:\n",
    "```\n",
    "pip install --upgrade keras tensorflow tensorflow-addons \n",
    "```\n",
    "You will read and run the code in the cells below."
   ]
  },
  {
   "cell_type": "markdown",
   "id": "synthetic-karma",
   "metadata": {},
   "source": [
    "All these APIs are built on numpy and we convert the dataset into numpy if you have not done it already"
   ]
  },
  {
   "cell_type": "code",
   "execution_count": 36,
   "id": "horizontal-celebrity",
   "metadata": {},
   "outputs": [],
   "source": [
    "X = np.array(X)\n",
    "X_norm = np.array(X_norm)\n",
    "y = np.array(y)"
   ]
  },
  {
   "cell_type": "markdown",
   "id": "linear-institution",
   "metadata": {},
   "source": [
    "They also handle the intercept so we do not need the first column of ones."
   ]
  },
  {
   "cell_type": "code",
   "execution_count": 37,
   "id": "thick-leadership",
   "metadata": {},
   "outputs": [],
   "source": [
    "X = X[:, 1:]\n",
    "X_norm = X_norm[:, 1:]"
   ]
  },
  {
   "cell_type": "markdown",
   "id": "phantom-peter",
   "metadata": {},
   "source": [
    "### sklearn\n",
    "Using the dataset of English and French datapoints, we apply logistic regression with the sklearn API. We need the `LogisticRegression` class, the fit() and predict() functions. The weights are in the `coef_` field."
   ]
  },
  {
   "cell_type": "code",
   "execution_count": 38,
   "id": "adult-young",
   "metadata": {},
   "outputs": [
    {
     "data": {
      "text/plain": [
       "array([[-0.03372363,  0.51169867]])"
      ]
     },
     "execution_count": 38,
     "metadata": {},
     "output_type": "execute_result"
    }
   ],
   "source": [
    "from sklearn.linear_model import LogisticRegression\n",
    "model = LogisticRegression()\n",
    "model = model.fit(X, y)\n",
    "model.coef_"
   ]
  },
  {
   "cell_type": "markdown",
   "id": "effective-adventure",
   "metadata": {},
   "source": [
    "We predict the classes of the $\\mathbf{X}$ with the `predict()` function"
   ]
  },
  {
   "cell_type": "code",
   "execution_count": 39,
   "id": "bizarre-african",
   "metadata": {},
   "outputs": [
    {
     "data": {
      "text/plain": [
       "array([0., 0., 0., 0., 0., 0., 0., 0., 0., 0., 0., 0., 0., 0., 0., 1., 1.,\n",
       "       1., 1., 1., 1., 1., 1., 1., 1., 1., 1., 1., 1., 1.])"
      ]
     },
     "execution_count": 39,
     "metadata": {},
     "output_type": "execute_result"
    }
   ],
   "source": [
    "model.predict(X)"
   ]
  },
  {
   "cell_type": "markdown",
   "id": "dental-watson",
   "metadata": {},
   "source": [
    "We predict the class probabilities of the $\\mathbf{X}$ with the `predict_proba()` function"
   ]
  },
  {
   "cell_type": "code",
   "execution_count": 40,
   "id": "composed-playlist",
   "metadata": {},
   "outputs": [
    {
     "data": {
      "text/plain": [
       "array([[1.00000000e+00, 1.28980319e-30],\n",
       "       [9.99999999e-01, 8.16295157e-10],\n",
       "       [9.91302434e-01, 8.69756611e-03],\n",
       "       [1.00000000e+00, 2.35657080e-12],\n",
       "       [1.00000000e+00, 1.01085544e-22],\n",
       "       [1.00000000e+00, 3.56287478e-11],\n",
       "       [1.00000000e+00, 1.62389438e-24],\n",
       "       [1.00000000e+00, 5.76610689e-17],\n",
       "       [1.00000000e+00, 2.72458519e-12],\n",
       "       [9.94843591e-01, 5.15640906e-03],\n",
       "       [9.89714656e-01, 1.02853437e-02],\n",
       "       [1.00000000e+00, 4.22127774e-11],\n",
       "       [1.00000000e+00, 1.22665951e-41],\n",
       "       [1.00000000e+00, 7.37721442e-22],\n",
       "       [1.00000000e+00, 3.90177203e-16],\n",
       "       [1.33226763e-15, 1.00000000e+00],\n",
       "       [0.00000000e+00, 1.00000000e+00],\n",
       "       [1.92390717e-02, 9.80760928e-01],\n",
       "       [0.00000000e+00, 1.00000000e+00],\n",
       "       [1.01629571e-09, 9.99999999e-01],\n",
       "       [0.00000000e+00, 1.00000000e+00],\n",
       "       [0.00000000e+00, 1.00000000e+00],\n",
       "       [0.00000000e+00, 1.00000000e+00],\n",
       "       [0.00000000e+00, 1.00000000e+00],\n",
       "       [0.00000000e+00, 1.00000000e+00],\n",
       "       [0.00000000e+00, 1.00000000e+00],\n",
       "       [0.00000000e+00, 1.00000000e+00],\n",
       "       [0.00000000e+00, 1.00000000e+00],\n",
       "       [0.00000000e+00, 1.00000000e+00],\n",
       "       [1.80182968e-02, 9.81981703e-01]])"
      ]
     },
     "execution_count": 40,
     "metadata": {},
     "output_type": "execute_result"
    }
   ],
   "source": [
    "model.predict_proba(X)"
   ]
  },
  {
   "cell_type": "markdown",
   "id": "developing-oxygen",
   "metadata": {},
   "source": [
    "### Keras\n",
    "Using the dataset of English and French datapoints, we apply logistic regression with Keras. We need the `Sequential` and `Dense` classes."
   ]
  },
  {
   "cell_type": "code",
   "execution_count": 41,
   "id": "urban-analysis",
   "metadata": {},
   "outputs": [],
   "source": [
    "from tensorflow.keras import Sequential \n",
    "from tensorflow.keras.layers import Dense"
   ]
  },
  {
   "cell_type": "code",
   "execution_count": 42,
   "id": "healthy-kingdom",
   "metadata": {},
   "outputs": [
    {
     "name": "stdout",
     "output_type": "stream",
     "text": [
      "Model: \"sequential\"\n",
      "_________________________________________________________________\n",
      " Layer (type)                Output Shape              Param #   \n",
      "=================================================================\n",
      " dense (Dense)               (None, 1)                 3         \n",
      "                                                                 \n",
      "=================================================================\n",
      "Total params: 3\n",
      "Trainable params: 3\n",
      "Non-trainable params: 0\n",
      "_________________________________________________________________\n"
     ]
    }
   ],
   "source": [
    "# Write your code here\n",
    "model = Sequential()\n",
    "model.add(Dense(1, input_dim=2, activation='sigmoid'))\n",
    "model.compile(loss='binary_crossentropy',\n",
    "              optimizer='nadam',\n",
    "              metrics=['accuracy'])\n",
    "model.summary()"
   ]
  },
  {
   "cell_type": "markdown",
   "id": "animated-baseball",
   "metadata": {},
   "source": [
    "We fit the model"
   ]
  },
  {
   "cell_type": "code",
   "execution_count": 43,
   "id": "critical-banner",
   "metadata": {},
   "outputs": [
    {
     "data": {
      "text/plain": [
       "<keras.callbacks.History at 0x1c63fa2c970>"
      ]
     },
     "execution_count": 43,
     "metadata": {},
     "output_type": "execute_result"
    }
   ],
   "source": [
    "model.fit(X, y, epochs=1500, batch_size=4, verbose=0)"
   ]
  },
  {
   "cell_type": "code",
   "execution_count": 44,
   "id": "simple-aside",
   "metadata": {},
   "outputs": [
    {
     "data": {
      "text/plain": [
       "array([0., 0., 0., 0., 0., 0., 0., 0., 0., 0., 0., 0., 0., 0., 0., 1., 1.,\n",
       "       1., 1., 1., 1., 1., 1., 1., 1., 1., 1., 1., 1., 1.])"
      ]
     },
     "execution_count": 44,
     "metadata": {},
     "output_type": "execute_result"
    }
   ],
   "source": [
    "y"
   ]
  },
  {
   "cell_type": "code",
   "execution_count": 45,
   "id": "genuine-latino",
   "metadata": {},
   "outputs": [
    {
     "data": {
      "text/plain": [
       "array([[4.0283799e-04],\n",
       "       [9.9525279e-01],\n",
       "       [9.5768982e-01],\n",
       "       [9.0907848e-01],\n",
       "       [8.7635517e-03],\n",
       "       [9.8332554e-01],\n",
       "       [9.8707175e-01],\n",
       "       [5.5303878e-01],\n",
       "       [7.9854131e-01],\n",
       "       [9.9434930e-01],\n",
       "       [9.9962509e-01],\n",
       "       [9.8129398e-01],\n",
       "       [3.4028292e-03],\n",
       "       [9.9753910e-01],\n",
       "       [2.4218589e-02],\n",
       "       [1.0000000e+00],\n",
       "       [1.0000000e+00],\n",
       "       [9.9523979e-01],\n",
       "       [1.0000000e+00],\n",
       "       [9.9999666e-01],\n",
       "       [1.0000000e+00],\n",
       "       [1.0000000e+00],\n",
       "       [1.0000000e+00],\n",
       "       [1.0000000e+00],\n",
       "       [1.0000000e+00],\n",
       "       [1.0000000e+00],\n",
       "       [1.0000000e+00],\n",
       "       [1.0000000e+00],\n",
       "       [1.0000000e+00],\n",
       "       [9.9739885e-01]], dtype=float32)"
      ]
     },
     "execution_count": 45,
     "metadata": {},
     "output_type": "execute_result"
    }
   ],
   "source": [
    "model.predict(X)"
   ]
  },
  {
   "cell_type": "code",
   "execution_count": 46,
   "id": "contemporary-museum",
   "metadata": {},
   "outputs": [
    {
     "data": {
      "text/plain": [
       "array([[0],\n",
       "       [1],\n",
       "       [1],\n",
       "       [1],\n",
       "       [0],\n",
       "       [1],\n",
       "       [1],\n",
       "       [1],\n",
       "       [1],\n",
       "       [1],\n",
       "       [1],\n",
       "       [1],\n",
       "       [0],\n",
       "       [1],\n",
       "       [0],\n",
       "       [1],\n",
       "       [1],\n",
       "       [1],\n",
       "       [1],\n",
       "       [1],\n",
       "       [1],\n",
       "       [1],\n",
       "       [1],\n",
       "       [1],\n",
       "       [1],\n",
       "       [1],\n",
       "       [1],\n",
       "       [1],\n",
       "       [1],\n",
       "       [1]])"
      ]
     },
     "execution_count": 46,
     "metadata": {},
     "output_type": "execute_result"
    }
   ],
   "source": [
    "(model.predict(X) > 0.5).astype('int32')"
   ]
  },
  {
   "cell_type": "markdown",
   "id": "close-premium",
   "metadata": {},
   "source": [
    "If you do not obtain a correct classification, rerun the training with more epochs."
   ]
  },
  {
   "cell_type": "markdown",
   "id": "handmade-involvement",
   "metadata": {},
   "source": [
    "## Reading\n",
    "You will read the article *An overview of gradient descent optimization algorithms* by Ruder (2017) and you will outline the main characteristics of all the optimization algorithms the author describes. This part should be of about one to two pages. Link to the article: https://arxiv.org/abs/1609.04747\n",
    "\n",
    "If you understand French, or using Google translate, you may also want to read the original article on gradient descent by Cauchy here:  https://gallica.bnf.fr/ark:/12148/bpt6k2982c/f540.item.\n"
   ]
  },
  {
   "cell_type": "markdown",
   "id": "packed-student",
   "metadata": {},
   "source": [
    "### Report\n",
    "\n",
    "The assignment must be documented in the report, which should contain the following:\n",
    "\n",
    "*   The name of the author, the title of the assignment, and any relevant information on the front page;\n",
    "*   A presentation of the assignment and the possible improvements you would have brought;\n",
    "*   A presentation of your implementation;\n",
    "*   A print-out of the example set(s) and the resulting weight vectors;\n",
    "*   Comments on the results you have obtained, including your cross validation;\n",
    "*   A short dissertation on the optimization algorithms from Ruder's paper.\n",
    "\n",
    "Please, typeset and format your report consistently. You must use Latex. Documents written using MS Word or any similar format will not be considered.\n",
    "\n",
    "You may have a look at the code in the textbook code repository (or any other implementations), but the code you hand in must be your work."
   ]
  },
  {
   "cell_type": "markdown",
   "id": "apparent-cedar",
   "metadata": {},
   "source": [
    "## Submission\n",
    "Submit the notebook and the report to Canvas (two files). Do not include the code printout in the report, but only comments on its interesting parts. You will submit the notebook as a separate file."
   ]
  },
  {
   "cell_type": "code",
   "execution_count": null,
   "id": "endangered-occurrence",
   "metadata": {},
   "outputs": [],
   "source": []
  },
  {
   "cell_type": "code",
   "execution_count": null,
   "id": "57ca07e0",
   "metadata": {},
   "outputs": [],
   "source": []
  },
  {
   "cell_type": "code",
   "execution_count": null,
   "id": "70210181",
   "metadata": {},
   "outputs": [],
   "source": []
  }
 ],
 "metadata": {
  "kernelspec": {
   "display_name": "Python 3 (ipykernel)",
   "language": "python",
   "name": "python3"
  },
  "language_info": {
   "codemirror_mode": {
    "name": "ipython",
    "version": 3
   },
   "file_extension": ".py",
   "mimetype": "text/x-python",
   "name": "python",
   "nbconvert_exporter": "python",
   "pygments_lexer": "ipython3",
   "version": "3.10.2"
  }
 },
 "nbformat": 4,
 "nbformat_minor": 5
}
