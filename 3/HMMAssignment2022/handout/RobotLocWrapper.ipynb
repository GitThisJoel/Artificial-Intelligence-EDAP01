{
 "cells": [
  {
   "cell_type": "markdown",
   "metadata": {},
   "source": [
    "### Python based viewer tool for \"Probabilistic Reasoning over time\", EDAP01 Artificial Intelligence\n",
    "This notebook has been provided to you by Alexander Dürr, teaching assistant on the course, spring term 2021. It is based on the ideas and structure of the original Java skeleton for this assignment, provided by Elin A. Topp. Contact us (elin_anna.topp at cs.lth.se) in case you need help!"
   ]
  },
  {
   "cell_type": "markdown",
   "metadata": {},
   "source": [
    "### Note: Installing and activating widgets for Jupyter Notebook\n",
    "To be able to display the visualization (dashboard,animations,etc.) you have to initially install the package  if you don't have it yet"
   ]
  },
  {
   "cell_type": "raw",
   "metadata": {},
   "source": [
    "pip install ipywidgets"
   ]
  },
  {
   "cell_type": "markdown",
   "metadata": {},
   "source": [
    "### Note: Use Jupyter Lab for programming, Jupyter Notebook for visualization (optional)\n",
    "This command only enables the extension for jupyter notebook and not in jupyter lab! You can edit from the comfort of jupyter lab though and when you feel like using the widgets just go to\n",
    "\n",
    "Menu bar > Help > Launch Classic Notebook"
   ]
  },
  {
   "cell_type": "raw",
   "metadata": {},
   "source": [
    "jupyter nbextension enable --py widgetsnbextension"
   ]
  },
  {
   "cell_type": "markdown",
   "metadata": {},
   "source": [
    "## Here we go... all imports go through the models\n",
    "\n",
    "### Your job is in the files Localizer.py and RobotSimAndFilter.py"
   ]
  },
  {
   "cell_type": "code",
   "execution_count": 1,
   "metadata": {
    "scrolled": false
   },
   "outputs": [
    {
     "name": "stdout",
     "output_type": "stream",
     "text": [
      "Hello from RobotSim\n",
      "Hello from HMMFilter\n"
     ]
    },
    {
     "data": {
      "image/png": "[encoded data removed]",
      "text/plain": [
       "<Figure size 288x288 with 2 Axes>"
      ]
     },
     "metadata": {
      "needs_background": "light"
     },
     "output_type": "display_data"
    },
    {
     "data": {
      "image/png": "[encoded data removed]",
      "text/plain": [
       "<Figure size 1117.09x288 with 2 Axes>"
      ]
     },
     "metadata": {
      "needs_background": "light"
     },
     "output_type": "display_data"
    },
    {
     "name": "stdout",
     "output_type": "stream",
     "text": [
      "[[0.1 0.  0.  ... 0.  0.  0. ]\n",
      " [0.  0.1 0.  ... 0.  0.  0. ]\n",
      " [0.  0.  0.1 ... 0.  0.  0. ]\n",
      " ...\n",
      " [0.  0.  0.  ... 0.  0.  0. ]\n",
      " [0.  0.  0.  ... 0.  0.  0. ]\n",
      " [0.  0.  0.  ... 0.  0.  0. ]]\n",
      "[[0.625 0.    0.    ... 0.    0.    0.   ]\n",
      " [0.    0.625 0.    ... 0.    0.    0.   ]\n",
      " [0.    0.    0.625 ... 0.    0.    0.   ]\n",
      " ...\n",
      " [0.    0.    0.    ... 0.625 0.    0.   ]\n",
      " [0.    0.    0.    ... 0.    0.625 0.   ]\n",
      " [0.    0.    0.    ... 0.    0.    0.625]]\n",
      "(True, 1, 1, 1, 2, 2, 2, 2, 2, array([0.07736785, 0.        , 0.        , 0.07736785, 0.05802589,\n",
      "       0.11605177, 0.        , 0.07736785, 0.05802589, 0.07736785,\n",
      "       0.        , 0.07736785, 0.05802589, 0.07736785, 0.        ,\n",
      "       0.07736785, 0.05802589, 0.07736785, 0.        , 0.07736785,\n",
      "       0.        , 0.        , 0.        , 0.        , 0.        ,\n",
      "       0.        , 0.        , 0.        , 0.        , 0.        ,\n",
      "       0.        , 0.        , 0.07736785, 0.        , 0.11605177,\n",
      "       0.05802589, 0.11605177, 0.15473569, 0.15473569, 0.11605177,\n",
      "       0.11605177, 0.11605177, 0.15473569, 0.11605177, 0.11605177,\n",
      "       0.11605177, 0.15473569, 0.11605177, 0.05802589, 0.05802589,\n",
      "       0.07736785, 0.05802589, 0.        , 0.        , 0.        ,\n",
      "       0.        , 0.        , 0.        , 0.        , 0.        ,\n",
      "       0.        , 0.        , 0.        , 0.        , 0.11605177,\n",
      "       0.        , 0.07736785, 0.05802589, 0.15473569, 0.15473569,\n",
      "       0.11605177, 0.11605177, 0.30947139, 0.23210354, 0.23210354,\n",
      "       0.23210354, 0.15473569, 0.11605177, 0.11605177, 0.11605177,\n",
      "       0.07736785, 0.05802589, 0.05802589, 0.05802589, 0.        ,\n",
      "       0.        , 0.        , 0.        , 0.        , 0.        ,\n",
      "       0.        , 0.        , 0.        , 0.        , 0.        ,\n",
      "       0.        , 0.        , 0.        , 0.07736785, 0.07736785,\n",
      "       0.        , 0.23210354, 0.11605177, 0.15473569, 0.        ,\n",
      "       0.15473569, 0.11605177, 0.15473569, 0.        , 0.15473569,\n",
      "       0.11605177, 0.15473569, 0.        , 0.07736785, 0.05802589,\n",
      "       0.07736785, 0.        , 0.        , 0.        , 0.        ,\n",
      "       0.        , 0.        , 0.        , 0.        , 0.        ,\n",
      "       0.        , 0.        , 0.        ]))\n"
     ]
    }
   ],
   "source": [
    "# In models, all the actually interesting stuff is located, in Localizer and RobotSimAndFilter \n",
    "# you can write your own code. Note that the visualization assumes to have access to an object of type\n",
    "# Localizer, i.e., you should definitely use that to implement the main \"three step cycle\" according to the \n",
    "# instructions.\n",
    "\n",
    "from models import *\n",
    "\n",
    "# Testing the models, e.g., for an 4x8 grid\n",
    "\n",
    "states = StateModel( 4, 8)\n",
    "loc = Localizer( states)\n",
    "tMat = loc.get_transition_model()\n",
    "sVecs = loc.get_observation_model()\n",
    "tMat.plot_T()\n",
    "sVecs.plot_o_diags()\n",
    "print(sVecs.get_o_reading(0))\n",
    "print(sVecs.get_o_reading(None))\n",
    "\n",
    "print(loc.update())\n"
   ]
  },
  {
   "cell_type": "markdown",
   "metadata": {},
   "source": [
    "### Write your own \"main\" here (without the viewer)"
   ]
  },
  {
   "cell_type": "code",
   "execution_count": 3,
   "metadata": {
    "scrolled": false
   },
   "outputs": [
    {
     "name": "stdout",
     "output_type": "stream",
     "text": [
      "Hello from RobotSim\n",
      "Hello from HMMFilter\n",
      "\n",
      "mean error: 2 / 100 = 0.02\n",
      "percentage of hits: 49 / 100 = 49.0%\n",
      "\n",
      "mean sensor error: 524 / 100 = 5.24\n",
      "percentage of sensor hits: 10 / 100 = 10.0%\n",
      "\n",
      "mean random error: 537 / 100 = 5.37\n",
      "percentage of random hits: 2 / 100 = 2.0%\n"
     ]
    }
   ],
   "source": [
    "# In this cell, you can write your own \"main\" to run and evaluate your \n",
    "# implementation without using the visualisation below\n",
    "from models import *\n",
    "import random\n",
    "\n",
    "rows = 8\n",
    "cols = 8\n",
    "sm  = StateModel(rows, cols)\n",
    "loc = Localizer(sm)\n",
    "\n",
    "sum_error = 0\n",
    "hits = 0\n",
    "correct = 0\n",
    "\n",
    "sensor_sum_error = 0\n",
    "sensor_correct = 0\n",
    "\n",
    "random_sum_error = 0\n",
    "random_correct = 0\n",
    "\n",
    "iters = 100\n",
    "for move in range(iters):\n",
    "    # print(\"move nbr:\", move)\n",
    "    ret, tsX, tsY, tsH, srX, srY, eX, eY, error, probs = loc.update()\n",
    "    sum_error += error\n",
    "    \n",
    "    if (tsX == eX) and (tsY == eY):\n",
    "            correct += 1\n",
    "\n",
    "    sensor_sum_error += abs(tsX - srX) + abs(tsY - srY)\n",
    "    if (tsX == srX) and (tsY == srY):\n",
    "        sensor_correct += 1\n",
    "\n",
    "    rgX = random.choice(list(range(rows)))\n",
    "    rgY = random.choice(list(range(cols)))\n",
    "    random_sum_error += abs(tsX - rgX) + abs(tsY - rgY)\n",
    "    if (tsX == rgX) and (tsY == rgY):\n",
    "        random_correct += 1\n",
    "        \n",
    "\n",
    "# I seems to get worse performace here than down below...\n",
    "print()\n",
    "print(f\"mean error: {error} / {iters} = {error/iters}\")\n",
    "print(f\"percentage of hits: {correct} / {iters} = {correct/iters*100}%\")\n",
    "print()\n",
    "print(f\"mean sensor error: {sensor_sum_error} / {iters} = {sensor_sum_error/iters}\")\n",
    "print(f\"percentage of sensor hits: {sensor_correct} / {iters} = {sensor_correct/iters*100}%\")\n",
    "print()\n",
    "print(f\"mean random error: {random_sum_error} / {iters} = {random_sum_error/iters}\")\n",
    "print(f\"percentage of random hits: {random_correct} / {iters} = {random_correct/iters*100}%\")\n"
   ]
  },
  {
   "cell_type": "code",
   "execution_count": 3,
   "metadata": {},
   "outputs": [
    {
     "data": {
      "image/png": "[encoded data removed]",
      "text/plain": [
       "<Figure size 288x288 with 2 Axes>"
      ]
     },
     "metadata": {
      "needs_background": "light"
     },
     "output_type": "display_data"
    },
    {
     "data": {
      "image/png": "[encoded data removed]",
      "text/plain": [
       "<Figure size 1134.28x288 with 2 Axes>"
      ]
     },
     "metadata": {
      "needs_background": "light"
     },
     "output_type": "display_data"
    }
   ],
   "source": [
    "tMat = loc.get_transition_model()\n",
    "sVecs = loc.get_observation_model()\n",
    "tMat.plot_T()\n",
    "sVecs.plot_o_diags()\n"
   ]
  },
  {
   "cell_type": "markdown",
   "metadata": {},
   "source": [
    "### Visualisation, both for transition and sensor probabilities and for actual runs of the filter, no changes needed"
   ]
  },
  {
   "cell_type": "code",
   "execution_count": 5,
   "metadata": {
    "scrolled": false
   },
   "outputs": [
    {
     "name": "stdout",
     "output_type": "stream",
     "text": [
      "Hello from RobotSim\n",
      "Hello from HMMFilter\n"
     ]
    },
    {
     "data": {
      "application/vnd.jupyter.widget-view+json": {
       "model_id": "00097544e8864358a9240c5901a6cabb",
       "version_major": 2,
       "version_minor": 0
      },
      "text/plain": [
       "VBox(children=(HBox(children=(IntSlider(value=4, description='Height', max=10, min=4), IntSlider(value=4, desc…"
      ]
     },
     "metadata": {},
     "output_type": "display_data"
    }
   ],
   "source": [
    "# In viewer, there is simply a file that handles all the thread based visualisation, no changes needed, \n",
    "# but feel free...\n",
    "\n",
    "from viewer import *\n",
    "\n",
    "ROWS = 4\n",
    "COLS = 4\n",
    "\n",
    "# the dashboard creates a state model of the dimensions given by ROWS and COLS, sets up the respective \n",
    "# Transition and Observation models, as well as an instance of class Localizer. All methods already \n",
    "# given in Localizer should thus keep their behaviour - otherwise the calls from Dashboard might result in \n",
    "# wrong output\n",
    "dash = Dashboard.Dashboard(ROWS, COLS)\n",
    "display(dash.db)\n"
   ]
  },
  {
   "cell_type": "code",
   "execution_count": null,
   "metadata": {
    "scrolled": false
   },
   "outputs": [],
   "source": []
  },
  {
   "cell_type": "code",
   "execution_count": null,
   "metadata": {},
   "outputs": [],
   "source": []
  }
 ],
 "metadata": {
  "kernelspec": {
   "display_name": "Python 3 (ipykernel)",
   "language": "python",
   "name": "python3"
  },
  "language_info": {
   "codemirror_mode": {
    "name": "ipython",
    "version": 3
   },
   "file_extension": ".py",
   "mimetype": "text/x-python",
   "name": "python",
   "nbconvert_exporter": "python",
   "pygments_lexer": "ipython3",
   "version": "3.10.2"
  }
 },
 "nbformat": 4,
 "nbformat_minor": 4
}
