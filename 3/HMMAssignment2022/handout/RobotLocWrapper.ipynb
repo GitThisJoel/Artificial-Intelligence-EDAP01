{
 "cells": [
  {
   "cell_type": "markdown",
   "metadata": {},
   "source": [
    "### Python based viewer tool for \"Probabilistic Reasoning over time\", EDAP01 Artificial Intelligence\n",
    "This notebook has been provided to you by Alexander Dürr, teaching assistant on the course, spring term 2021. It is based on the ideas and structure of the original Java skeleton for this assignment, provided by Elin A. Topp. Contact us (elin_anna.topp at cs.lth.se) in case you need help!"
   ]
  },
  {
   "cell_type": "markdown",
   "metadata": {},
   "source": [
    "### Note: Installing and activating widgets for Jupyter Notebook\n",
    "To be able to display the visualization (dashboard,animations,etc.) you have to initially install the package  if you don't have it yet"
   ]
  },
  {
   "cell_type": "raw",
   "metadata": {},
   "source": [
    "pip install ipywidgets"
   ]
  },
  {
   "cell_type": "markdown",
   "metadata": {},
   "source": [
    "### Note: Use Jupyter Lab for programming, Jupyter Notebook for visualization (optional)\n",
    "This command only enables the extension for jupyter notebook and not in jupyter lab! You can edit from the comfort of jupyter lab though and when you feel like using the widgets just go to\n",
    "\n",
    "Menu bar > Help > Launch Classic Notebook"
   ]
  },
  {
   "cell_type": "raw",
   "metadata": {},
   "source": [
    "jupyter nbextension enable --py widgetsnbextension"
   ]
  },
  {
   "cell_type": "markdown",
   "metadata": {},
   "source": [
    "## Here we go... all imports go through the models\n",
    "\n",
    "### Your job is in the files Localizer.py and RobotSimAndFilter.py"
   ]
  },
  {
   "cell_type": "code",
   "execution_count": 1,
   "metadata": {
    "scrolled": false
   },
   "outputs": [
    {
     "name": "stdout",
     "output_type": "stream",
     "text": [
      "Hello from RobotSim\n",
      "Hello from HMMFilter\n"
     ]
    },
    {
     "data": {
      "image/png": "[encoded data removed]",
      "text/plain": [
       "<Figure size 288x288 with 2 Axes>"
      ]
     },
     "metadata": {
      "needs_background": "light"
     },
     "output_type": "display_data"
    },
    {
     "data": {
      "image/png": "[encoded data removed]",
      "text/plain": [
       "<Figure size 1117.09x288 with 2 Axes>"
      ]
     },
     "metadata": {
      "needs_background": "light"
     },
     "output_type": "display_data"
    },
    {
     "name": "stdout",
     "output_type": "stream",
     "text": [
      "[[0.1 0.  0.  ... 0.  0.  0. ]\n",
      " [0.  0.1 0.  ... 0.  0.  0. ]\n",
      " [0.  0.  0.1 ... 0.  0.  0. ]\n",
      " ...\n",
      " [0.  0.  0.  ... 0.  0.  0. ]\n",
      " [0.  0.  0.  ... 0.  0.  0. ]\n",
      " [0.  0.  0.  ... 0.  0.  0. ]]\n",
      "[[0.625 0.    0.    ... 0.    0.    0.   ]\n",
      " [0.    0.625 0.    ... 0.    0.    0.   ]\n",
      " [0.    0.    0.625 ... 0.    0.    0.   ]\n",
      " ...\n",
      " [0.    0.    0.    ... 0.625 0.    0.   ]\n",
      " [0.    0.    0.    ... 0.    0.625 0.   ]\n",
      " [0.    0.    0.    ... 0.    0.    0.625]]\n",
      "(False, 3, 5, 2, -1, -1, 2, 7, 3, array([0.00651042, 0.        , 0.        , 0.00651042, 0.00390625,\n",
      "       0.0078125 , 0.        , 0.00520833, 0.00332031, 0.00442708,\n",
      "       0.        , 0.00442708, 0.00332031, 0.00442708, 0.        ,\n",
      "       0.00442708, 0.00332031, 0.00442708, 0.        , 0.00442708,\n",
      "       0.00332031, 0.00442708, 0.        , 0.00442708, 0.00390625,\n",
      "       0.00520833, 0.        , 0.0078125 , 0.00651042, 0.00651042,\n",
      "       0.        , 0.        , 0.00520833, 0.        , 0.0078125 ,\n",
      "       0.00390625, 0.00253906, 0.00338542, 0.00338542, 0.00253906,\n",
      "       0.00175781, 0.00175781, 0.00234375, 0.00175781, 0.00175781,\n",
      "       0.00175781, 0.00234375, 0.00175781, 0.00175781, 0.00175781,\n",
      "       0.00234375, 0.00175781, 0.00175781, 0.00175781, 0.00234375,\n",
      "       0.00175781, 0.00253906, 0.00253906, 0.00338542, 0.00338542,\n",
      "       0.00520833, 0.00390625, 0.0078125 , 0.        , 0.0078125 ,\n",
      "       0.        , 0.00520833, 0.00390625, 0.00338542, 0.00338542,\n",
      "       0.00253906, 0.00253906, 0.00234375, 0.00175781, 0.00175781,\n",
      "       0.00175781, 0.00234375, 0.00175781, 0.00175781, 0.00175781,\n",
      "       0.00234375, 0.00175781, 0.00175781, 0.00175781, 0.00234375,\n",
      "       0.00175781, 0.00175781, 0.00175781, 0.00338542, 0.00253906,\n",
      "       0.00253906, 0.00338542, 0.0078125 , 0.00390625, 0.00520833,\n",
      "       0.        , 0.        , 0.        , 0.00651042, 0.00651042,\n",
      "       0.        , 0.0078125 , 0.00390625, 0.00520833, 0.        ,\n",
      "       0.00442708, 0.00332031, 0.00442708, 0.        , 0.00442708,\n",
      "       0.00332031, 0.00442708, 0.        , 0.00442708, 0.00332031,\n",
      "       0.00442708, 0.        , 0.00442708, 0.00332031, 0.00442708,\n",
      "       0.        , 0.00520833, 0.00390625, 0.0078125 , 0.        ,\n",
      "       0.00651042, 0.00651042, 0.        ]))\n"
     ]
    }
   ],
   "source": [
    "# In models, all the actually interesting stuff is located, in Localizer and RobotSimAndFilter \n",
    "# you can write your own code. Note that the visualization assumes to have access to an object of type\n",
    "# Localizer, i.e., you should definitely use that to implement the main \"three step cycle\" according to the \n",
    "# instructions.\n",
    "\n",
    "from models import *\n",
    "\n",
    "# Testing the models, e.g., for an 4x8 grid\n",
    "\n",
    "states = StateModel( 4, 8)\n",
    "loc = Localizer( states)\n",
    "tMat = loc.get_transition_model()\n",
    "sVecs = loc.get_observation_model()\n",
    "tMat.plot_T()\n",
    "sVecs.plot_o_diags()\n",
    "print(sVecs.get_o_reading(0))\n",
    "print(sVecs.get_o_reading(None))\n",
    "\n",
    "print(loc.update())\n"
   ]
  },
  {
   "cell_type": "markdown",
   "metadata": {},
   "source": [
    "### Write your own \"main\" here (without the viewer)"
   ]
  },
  {
   "cell_type": "code",
   "execution_count": 2,
   "metadata": {
    "scrolled": true
   },
   "outputs": [
    {
     "name": "stdout",
     "output_type": "stream",
     "text": [
      "Hello from RobotSim\n",
      "Hello from HMMFilter\n",
      "move nbr: 0\n",
      "move nbr: 1\n",
      "move nbr: 2\n",
      "move nbr: 3\n",
      "move nbr: 4\n"
     ]
    }
   ],
   "source": [
    "# In this cell, you can write your own \"main\" to run and evaluate your \n",
    "# implementation without using the visualisation below\n",
    "from models import *\n",
    "\n",
    "rows = 4\n",
    "cols = 4\n",
    "sm  = StateModel(rows, cols)\n",
    "loc = Localizer(sm)\n",
    "\n",
    "for move in range(5):\n",
    "    print(\"move nbr:\", move)\n",
    "    loc.update()\n",
    "    \n"
   ]
  },
  {
   "cell_type": "markdown",
   "metadata": {},
   "source": [
    "### Visualisation, both for transition and sensor probabilities and for actual runs of the filter, no changes needed"
   ]
  },
  {
   "cell_type": "code",
   "execution_count": 4,
   "metadata": {
    "scrolled": false
   },
   "outputs": [
    {
     "name": "stdout",
     "output_type": "stream",
     "text": [
      "Hello from RobotSim\n",
      "Hello from HMMFilter\n"
     ]
    },
    {
     "data": {
      "application/vnd.jupyter.widget-view+json": {
       "model_id": "761d2f1ee93a4d46b2156ee7e1825dad",
       "version_major": 2,
       "version_minor": 0
      },
      "text/plain": [
       "VBox(children=(HBox(children=(IntSlider(value=8, description='Height', max=10, min=8), IntSlider(value=8, desc…"
      ]
     },
     "metadata": {},
     "output_type": "display_data"
    },
    {
     "name": "stdout",
     "output_type": "stream",
     "text": [
      "Hello from RobotSim\n",
      "Hello from HMMFilter\n",
      "new simulation started\n",
      "true pose = <0, 6, 3>, sensed position = <1, 4>, guessed position = <1, 4>\n",
      "nbr of moves: 1, avg error: 3.0, nbr correct guesses: 0\n",
      "thread stopped\n",
      "new simulation started\n",
      "true pose = <0, 6, 1>, sensed nothing\n",
      "nbr of moves: 5, avg error: 2.0, nbr correct guesses: 1\n"
     ]
    },
    {
     "data": {
      "image/png": "[encoded data removed]",
      "text/plain": [
       "<Figure size 720x720 with 1 Axes>"
      ]
     },
     "metadata": {},
     "output_type": "display_data"
    },
    {
     "name": "stdout",
     "output_type": "stream",
     "text": [
      "true pose = <0, 4, 3>, sensed position = <0, 4>, guessed position = <0, 4>\n",
      "nbr of moves: 7, avg error: 2.0, nbr correct guesses: 2\n"
     ]
    },
    {
     "data": {
      "image/png": "[encoded data removed]",
      "text/plain": [
       "<Figure size 720x720 with 1 Axes>"
      ]
     },
     "metadata": {},
     "output_type": "display_data"
    },
    {
     "name": "stdout",
     "output_type": "stream",
     "text": [
      "true pose = <0, 3, 3>, sensed position = <2, 2>, guessed position = <0, 3>\n",
      "nbr of moves: 8, avg error: 1.75, nbr correct guesses: 3\n"
     ]
    },
    {
     "data": {
      "image/png": "[encoded data removed]",
      "text/plain": [
       "<Figure size 720x720 with 1 Axes>"
      ]
     },
     "metadata": {},
     "output_type": "display_data"
    },
    {
     "name": "stdout",
     "output_type": "stream",
     "text": [
      "true pose = <0, 2, 3>, sensed position = <0, 1>, guessed position = <0, 2>\n",
      "nbr of moves: 9, avg error: 1.5555555555555556, nbr correct guesses: 4\n"
     ]
    },
    {
     "data": {
      "image/png": "[encoded data removed]",
      "text/plain": [
       "<Figure size 720x720 with 1 Axes>"
      ]
     },
     "metadata": {},
     "output_type": "display_data"
    },
    {
     "name": "stdout",
     "output_type": "stream",
     "text": [
      "true pose = <0, 3, 1>, sensed nothing\n",
      "nbr of moves: 10, avg error: 1.6, nbr correct guesses: 4\n",
      "true pose = <1, 3, 2>, sensed position = <2, 3>, guessed position = <0, 1>\n",
      "nbr of moves: 11, avg error: 1.7272727272727273, nbr correct guesses: 4\n",
      "true pose = <2, 3, 2>, sensed nothing\n",
      "nbr of moves: 12, avg error: 1.8333333333333333, nbr correct guesses: 4\n",
      "Hello from RobotSim\n",
      "Hello from HMMFilter\n",
      "true pose = <3, 0, 0>, sensed position = <4, 2>, guessed position = <4, 2>\n",
      "nbr of moves: 2, avg error: 6.0, nbr correct guesses: 0\n"
     ]
    }
   ],
   "source": [
    "# In viewer, there is simply a file that handles all the thread based visualisation, no changes needed, \n",
    "# but feel free...\n",
    "\n",
    "from viewer import *\n",
    "\n",
    "ROWS = 8\n",
    "COLS = 8\n",
    "\n",
    "# the dashboard creates a state model of the dimensions given by ROWS and COLS, sets up the respective \n",
    "# Transition and Observation models, as well as an instance of class Localizer. All methods already \n",
    "# given in Localizer should thus keep their behaviour - otherwise the calls from Dashboard might result in \n",
    "# wrong output\n",
    "dash = Dashboard.Dashboard(ROWS, COLS)\n",
    "display(dash.db)\n"
   ]
  },
  {
   "cell_type": "code",
   "execution_count": null,
   "metadata": {
    "scrolled": false
   },
   "outputs": [],
   "source": []
  },
  {
   "cell_type": "code",
   "execution_count": null,
   "metadata": {},
   "outputs": [],
   "source": []
  }
 ],
 "metadata": {
  "kernelspec": {
   "display_name": "Python 3 (ipykernel)",
   "language": "python",
   "name": "python3"
  },
  "language_info": {
   "codemirror_mode": {
    "name": "ipython",
    "version": 3
   },
   "file_extension": ".py",
   "mimetype": "text/x-python",
   "name": "python",
   "nbconvert_exporter": "python",
   "pygments_lexer": "ipython3",
   "version": "3.10.2"
  }
 },
 "nbformat": 4,
 "nbformat_minor": 4
}
